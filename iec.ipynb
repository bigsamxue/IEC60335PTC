{
 "cells": [
  {
   "cell_type": "code",
   "execution_count": 10,
   "metadata": {},
   "outputs": [],
   "source": [
    "import os\n",
    "import pandas as pd\n",
    "import numpy as np\n",
    "import time\n",
    "# #建立单个文件的excel转换成csv函数,file 是excel文件名，to_file 是csv文件名。\n",
    "# def excel_to_csv(file,to_file):\n",
    "#     data_xls=pd.read_excel(file)\n",
    "#     data_xls.to_csv(to_file,encoding='utf_8_sig',index= False)\n",
    " \n",
    "# #读取一个目录里面的所有文件：\n",
    "# def read_path(path):\n",
    "#     dirs=os.listdir(path)\n",
    "#     return dirs\n",
    " \n",
    "# #主函数\n",
    "# def main():\n",
    "#     #源文件路径\n",
    "#     source= os.path.dirname('./iec.ipynb')\n",
    " \n",
    "#     #目标文件路径\n",
    "#     ob= 'result'\n",
    " \n",
    "#     #将源文件路径里面的文件转换成列表file_list\n",
    "#     file_list=[source+'\\\\'+i for i in read_path(source)]\n",
    "#     #print(file_list)\n",
    "#     if not os.path.exists(ob): \n",
    "#         os.mkdir(ob)\n",
    "#     #建立循环对于每个文件调用excel_to_csv()\n",
    "#         for it in file_list:\n",
    "#             if it[-5:] == '.xlsx':\n",
    "#                 #给目标文件新建一些名字列表\n",
    "#                 a = (it[len(source):-5])  #14为source长度，5为.xlsx长度\n",
    "#                 j_csv=ob+'\\\\'+a+\".csv\"\n",
    "#                 excel_to_csv(it,j_csv)\n",
    "#                 #print(it)\n",
    "#     else:\n",
    "#         print('该文件夹已存在')\n",
    " \n",
    "# if __name__ == '__main__':\n",
    "#     main()"
   ]
  },
  {
   "cell_type": "code",
   "execution_count": 11,
   "metadata": {},
   "outputs": [
    {
     "name": "stdout",
     "output_type": "stream",
     "text": [
      "D:\\功率计资料\\PTC夹发棒\n",
      "['D:\\\\功率计资料\\\\PTC夹发棒\\\\result\\\\Book1.csv', 'D:\\\\功率计资料\\\\PTC夹发棒\\\\result\\\\Book2.csv', 'D:\\\\功率计资料\\\\PTC夹发棒\\\\result\\\\pic.png', 'D:\\\\功率计资料\\\\PTC夹发棒\\\\result\\\\pic1.png', 'D:\\\\功率计资料\\\\PTC夹发棒\\\\result\\\\处理结果.csv']\n"
     ]
    }
   ],
   "source": [
    "_DIRNAME=os.path.dirname(os.path.realpath('__file__'))\n",
    "print(_DIRNAME)\n",
    "file = os.listdir('./result')\n",
    "list=[]\n",
    "for f in file:\n",
    "    the_path = _DIRNAME+'\\\\'+'result'+'\\\\'+f\n",
    "    list.append(the_path)\n",
    "print(list)\n",
    "    \n",
    "    "
   ]
  },
  {
   "cell_type": "code",
   "execution_count": 12,
   "metadata": {},
   "outputs": [
    {
     "data": {
      "text/html": [
       "<div>\n",
       "<style scoped>\n",
       "    .dataframe tbody tr th:only-of-type {\n",
       "        vertical-align: middle;\n",
       "    }\n",
       "\n",
       "    .dataframe tbody tr th {\n",
       "        vertical-align: top;\n",
       "    }\n",
       "\n",
       "    .dataframe thead th {\n",
       "        text-align: right;\n",
       "    }\n",
       "</style>\n",
       "<table border=\"1\" class=\"dataframe\">\n",
       "  <thead>\n",
       "    <tr style=\"text-align: right;\">\n",
       "      <th></th>\n",
       "      <th>测量电压值（采集30分钟，每秒钟记录50次）</th>\n",
       "      <th>测量电流值（采集30分钟，每秒钟记录50次）</th>\n",
       "      <th>测量功率值（采集30分钟，每秒钟记录50次）</th>\n",
       "    </tr>\n",
       "  </thead>\n",
       "  <tbody>\n",
       "    <tr>\n",
       "      <th>0</th>\n",
       "      <td>226.86</td>\n",
       "      <td>0.026364</td>\n",
       "      <td>4.6141</td>\n",
       "    </tr>\n",
       "    <tr>\n",
       "      <th>1</th>\n",
       "      <td>226.90</td>\n",
       "      <td>0.026284</td>\n",
       "      <td>4.6348</td>\n",
       "    </tr>\n",
       "    <tr>\n",
       "      <th>2</th>\n",
       "      <td>226.81</td>\n",
       "      <td>0.026267</td>\n",
       "      <td>4.6094</td>\n",
       "    </tr>\n",
       "    <tr>\n",
       "      <th>3</th>\n",
       "      <td>226.82</td>\n",
       "      <td>0.026232</td>\n",
       "      <td>4.5993</td>\n",
       "    </tr>\n",
       "    <tr>\n",
       "      <th>4</th>\n",
       "      <td>226.79</td>\n",
       "      <td>0.026388</td>\n",
       "      <td>4.6420</td>\n",
       "    </tr>\n",
       "    <tr>\n",
       "      <th>...</th>\n",
       "      <td>...</td>\n",
       "      <td>...</td>\n",
       "      <td>...</td>\n",
       "    </tr>\n",
       "    <tr>\n",
       "      <th>89995</th>\n",
       "      <td>225.65</td>\n",
       "      <td>0.025936</td>\n",
       "      <td>4.5246</td>\n",
       "    </tr>\n",
       "    <tr>\n",
       "      <th>89996</th>\n",
       "      <td>225.59</td>\n",
       "      <td>0.026001</td>\n",
       "      <td>4.5606</td>\n",
       "    </tr>\n",
       "    <tr>\n",
       "      <th>89997</th>\n",
       "      <td>225.63</td>\n",
       "      <td>0.025953</td>\n",
       "      <td>4.5377</td>\n",
       "    </tr>\n",
       "    <tr>\n",
       "      <th>89998</th>\n",
       "      <td>225.62</td>\n",
       "      <td>0.025900</td>\n",
       "      <td>4.5208</td>\n",
       "    </tr>\n",
       "    <tr>\n",
       "      <th>89999</th>\n",
       "      <td>225.64</td>\n",
       "      <td>0.025957</td>\n",
       "      <td>4.5348</td>\n",
       "    </tr>\n",
       "  </tbody>\n",
       "</table>\n",
       "<p>90000 rows × 3 columns</p>\n",
       "</div>"
      ],
      "text/plain": [
       "       测量电压值（采集30分钟，每秒钟记录50次）  测量电流值（采集30分钟，每秒钟记录50次）  测量功率值（采集30分钟，每秒钟记录50次）\n",
       "0                      226.86                0.026364                  4.6141\n",
       "1                      226.90                0.026284                  4.6348\n",
       "2                      226.81                0.026267                  4.6094\n",
       "3                      226.82                0.026232                  4.5993\n",
       "4                      226.79                0.026388                  4.6420\n",
       "...                       ...                     ...                     ...\n",
       "89995                  225.65                0.025936                  4.5246\n",
       "89996                  225.59                0.026001                  4.5606\n",
       "89997                  225.63                0.025953                  4.5377\n",
       "89998                  225.62                0.025900                  4.5208\n",
       "89999                  225.64                0.025957                  4.5348\n",
       "\n",
       "[90000 rows x 3 columns]"
      ]
     },
     "execution_count": 12,
     "metadata": {},
     "output_type": "execute_result"
    }
   ],
   "source": [
    "df =pd.read_csv(list[0],encoding='utf-8-sig')\n",
    "df\n"
   ]
  },
  {
   "cell_type": "code",
   "execution_count": 13,
   "metadata": {},
   "outputs": [
    {
     "data": {
      "text/plain": [
       "测量电压值（采集30分钟，每秒钟记录50次）    226.137341\n",
       "测量电流值（采集30分钟，每秒钟记录50次）      0.026100\n",
       "测量功率值（采集30分钟，每秒钟记录50次）      4.572051\n",
       "dtype: float64"
      ]
     },
     "execution_count": 13,
     "metadata": {},
     "output_type": "execute_result"
    }
   ],
   "source": [
    "mean = df.mean()\n",
    "mean"
   ]
  },
  {
   "cell_type": "code",
   "execution_count": 14,
   "metadata": {},
   "outputs": [
    {
     "data": {
      "text/plain": [
       "测量电压值（采集30分钟，每秒钟记录50次）    227.410000\n",
       "测量电流值（采集30分钟，每秒钟记录50次）      0.026662\n",
       "测量功率值（采集30分钟，每秒钟记录50次）      4.705000\n",
       "dtype: float64"
      ]
     },
     "execution_count": 14,
     "metadata": {},
     "output_type": "execute_result"
    }
   ],
   "source": [
    "max = df.max()\n",
    "max"
   ]
  },
  {
   "cell_type": "code",
   "execution_count": 15,
   "metadata": {},
   "outputs": [
    {
     "data": {
      "text/plain": [
       "测量电压值（采集30分钟，每秒钟记录50次）    False\n",
       "测量电流值（采集30分钟，每秒钟记录50次）    False\n",
       "测量功率值（采集30分钟，每秒钟记录50次）    False\n",
       "dtype: bool"
      ]
     },
     "execution_count": 15,
     "metadata": {},
     "output_type": "execute_result"
    }
   ],
   "source": [
    "compare = max>2*mean\n",
    "compare"
   ]
  },
  {
   "cell_type": "code",
   "execution_count": 16,
   "metadata": {},
   "outputs": [
    {
     "name": "stdout",
     "output_type": "stream",
     "text": [
      "电压运算值=226.137\n"
     ]
    },
    {
     "data": {
      "text/html": [
       "<div>\n",
       "<style scoped>\n",
       "    .dataframe tbody tr th:only-of-type {\n",
       "        vertical-align: middle;\n",
       "    }\n",
       "\n",
       "    .dataframe tbody tr th {\n",
       "        vertical-align: top;\n",
       "    }\n",
       "\n",
       "    .dataframe thead th {\n",
       "        text-align: right;\n",
       "    }\n",
       "</style>\n",
       "<table border=\"1\" class=\"dataframe\">\n",
       "  <thead>\n",
       "    <tr style=\"text-align: right;\">\n",
       "      <th></th>\n",
       "      <th>测量电压值（采集30分钟，每秒钟记录50次）</th>\n",
       "      <th>测量电流值（采集30分钟，每秒钟记录50次）</th>\n",
       "      <th>测量功率值（采集30分钟，每秒钟记录50次）</th>\n",
       "    </tr>\n",
       "  </thead>\n",
       "  <tbody>\n",
       "    <tr>\n",
       "      <th>1</th>\n",
       "      <td>227.41</td>\n",
       "      <td>0.026343</td>\n",
       "      <td>4.6453</td>\n",
       "    </tr>\n",
       "    <tr>\n",
       "      <th>2</th>\n",
       "      <td>227.40</td>\n",
       "      <td>0.026397</td>\n",
       "      <td>4.6393</td>\n",
       "    </tr>\n",
       "    <tr>\n",
       "      <th>3</th>\n",
       "      <td>227.39</td>\n",
       "      <td>0.026412</td>\n",
       "      <td>4.6301</td>\n",
       "    </tr>\n",
       "    <tr>\n",
       "      <th>4</th>\n",
       "      <td>227.39</td>\n",
       "      <td>0.026330</td>\n",
       "      <td>4.6139</td>\n",
       "    </tr>\n",
       "    <tr>\n",
       "      <th>5</th>\n",
       "      <td>227.39</td>\n",
       "      <td>0.026323</td>\n",
       "      <td>4.6232</td>\n",
       "    </tr>\n",
       "    <tr>\n",
       "      <th>...</th>\n",
       "      <td>...</td>\n",
       "      <td>...</td>\n",
       "      <td>...</td>\n",
       "    </tr>\n",
       "    <tr>\n",
       "      <th>89996</th>\n",
       "      <td>223.79</td>\n",
       "      <td>0.025449</td>\n",
       "      <td>4.4429</td>\n",
       "    </tr>\n",
       "    <tr>\n",
       "      <th>89997</th>\n",
       "      <td>223.79</td>\n",
       "      <td>0.025567</td>\n",
       "      <td>4.4504</td>\n",
       "    </tr>\n",
       "    <tr>\n",
       "      <th>89998</th>\n",
       "      <td>223.79</td>\n",
       "      <td>0.025592</td>\n",
       "      <td>4.4713</td>\n",
       "    </tr>\n",
       "    <tr>\n",
       "      <th>89999</th>\n",
       "      <td>223.78</td>\n",
       "      <td>0.025529</td>\n",
       "      <td>4.4461</td>\n",
       "    </tr>\n",
       "    <tr>\n",
       "      <th>90000</th>\n",
       "      <td>223.78</td>\n",
       "      <td>0.025372</td>\n",
       "      <td>4.4074</td>\n",
       "    </tr>\n",
       "  </tbody>\n",
       "</table>\n",
       "<p>90000 rows × 3 columns</p>\n",
       "</div>"
      ],
      "text/plain": [
       "       测量电压值（采集30分钟，每秒钟记录50次）  测量电流值（采集30分钟，每秒钟记录50次）  测量功率值（采集30分钟，每秒钟记录50次）\n",
       "1                      227.41                0.026343                  4.6453\n",
       "2                      227.40                0.026397                  4.6393\n",
       "3                      227.39                0.026412                  4.6301\n",
       "4                      227.39                0.026330                  4.6139\n",
       "5                      227.39                0.026323                  4.6232\n",
       "...                       ...                     ...                     ...\n",
       "89996                  223.79                0.025449                  4.4429\n",
       "89997                  223.79                0.025567                  4.4504\n",
       "89998                  223.79                0.025592                  4.4713\n",
       "89999                  223.78                0.025529                  4.4461\n",
       "90000                  223.78                0.025372                  4.4074\n",
       "\n",
       "[90000 rows x 3 columns]"
      ]
     },
     "execution_count": 16,
     "metadata": {},
     "output_type": "execute_result"
    }
   ],
   "source": [
    "# columns = ['测量电压值（采集30分钟，每秒钟记录50次）','测量电流值（采集30分钟，每秒钟记录50次）','测量功率值（采集30分钟，每秒钟记录50次）','电压运算值','电流运算值','功率运算值']\n",
    "# df.reindex(columns)\n",
    "def decision(meas,operation):\n",
    "    if compare[meas] == False:\n",
    "        sorted_df1 = df.sort_values(meas,ascending=False).reset_index(drop=True)\n",
    "        sorted_df1.index = sorted_df1.index+1\n",
    "        index_10pct = int((sorted_df1.index.tolist()[-1])*0.1)\n",
    "        value_10pct = sorted_df1.loc[index_10pct,meas]\n",
    "        print(operation+'='+str(round(mean[meas],3)))\n",
    "\n",
    "    else:\n",
    "        sorted_df1 = df.sort_values(meas,ascending=False).reset_index(drop=True)\n",
    "        sorted_df1.index = sorted_df1.index+1\n",
    "        index_10pct = int((sorted_df1.index.tolist()[-1])*0.1)\n",
    "        value_10pct = sorted_df1.loc[index_10pct,meas]\n",
    "        if value_10pct > mean[meas]:\n",
    "            print(operation+'='+str(round(value_10pct,3)))\n",
    "        else:\n",
    "            print(operation+'='+str(round(mean[meas],3)))\n",
    "    return sorted_df1,value_10pct\n",
    "sorted_df = decision('测量电压值（采集30分钟，每秒钟记录50次）','电压运算值')\n",
    "sorted_df[0]\n",
    "#df.to_csv('./result/test.csv',encoding='utf-8-sig')"
   ]
  },
  {
   "cell_type": "code",
   "execution_count": 17,
   "metadata": {},
   "outputs": [
    {
     "data": {
      "image/png": "[encoded data removed]",
      "text/plain": [
       "<Figure size 720x720 with 1 Axes>"
      ]
     },
     "metadata": {
      "needs_background": "light"
     },
     "output_type": "display_data"
    }
   ],
   "source": [
    "from matplotlib import pyplot as plt\n",
    "plt.figure(figsize=(10,10))\n",
    "plt.rcParams['font.family']=['SimHei']\n",
    "x=np.arange(1,90001,1)\n",
    "y= df['测量电压值（采集30分钟，每秒钟记录50次）']\n",
    "y_sorted = sorted_df[0]['测量电压值（采集30分钟，每秒钟记录50次）']\n",
    "# plt.scatter(x,y)\n",
    "# plt.scatter(x,y_sorted)\n",
    "plt.plot(x,y)\n",
    "plt.plot(x,y_sorted)\n",
    "plt.axhline(y=sorted_df[1],color='g')\n",
    "plt.title('IEC-60335曲线图')\n",
    "plt.xticks(fontsize=10)\n",
    "plt.yticks(fontsize=10)\n",
    "plt.xlabel('时间',fontsize=12)\n",
    "plt.ylabel('数值',fontsize=12)\n",
    "# if os.path.exists('./result/pic.png') == True:\n",
    "#     pass\n",
    "# else:\n",
    "plt.savefig('./result/pic.png')\n"
   ]
  },
  {
   "cell_type": "code",
   "execution_count": 18,
   "metadata": {},
   "outputs": [],
   "source": [
    "\n",
    "sorted_df[0].to_csv('./result/处理结果.csv',encoding='utf-8-sig',index=False)"
   ]
  }
 ],
 "metadata": {
  "interpreter": {
   "hash": "5fc630d61f0672d0f52212ba7c16b28b251c93462dabaaa639d7c0e0dfd971c9"
  },
  "kernelspec": {
   "display_name": "Python 3.8.9 64-bit",
   "language": "python",
   "name": "python3"
  },
  "language_info": {
   "codemirror_mode": {
    "name": "ipython",
    "version": 3
   },
   "file_extension": ".py",
   "mimetype": "text/x-python",
   "name": "python",
   "nbconvert_exporter": "python",
   "pygments_lexer": "ipython3",
   "version": "3.8.9"
  },
  "orig_nbformat": 4
 },
 "nbformat": 4,
 "nbformat_minor": 2
}
